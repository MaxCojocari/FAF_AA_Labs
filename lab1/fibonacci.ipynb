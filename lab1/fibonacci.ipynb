{
 "cells": [
  {
   "cell_type": "code",
   "execution_count": 9,
   "metadata": {},
   "outputs": [],
   "source": [
    "import matplotlib.pyplot as plt\n",
    "import numpy as np\n",
    "import time as t\n",
    "import math\n",
    "from decimal import *\n",
    "from prettytable import PrettyTable"
   ]
  },
  {
   "cell_type": "code",
   "execution_count": 126,
   "metadata": {},
   "outputs": [],
   "source": [
    "def fib_recursive(n: int) -> int:\n",
    "  \"\"\"Recursive subroutine for positive Fibonacci numbers.\"\"\"\n",
    "\n",
    "  if n == 0:\n",
    "    return 0\n",
    "  elif n == 1:\n",
    "    return 1\n",
    "  else:\n",
    "    return fib_recursive(n-1) + fib_recursive(n-2)"
   ]
  },
  {
   "cell_type": "code",
   "execution_count": 127,
   "metadata": {},
   "outputs": [],
   "source": [
    "def fib_recursive_neg(n: int) -> int:\n",
    "  \"\"\"Recursive subroutine for negative Fibonacci numbers.\"\"\"\n",
    "\n",
    "  assert n < 0\n",
    "  if abs(n) % 2:\n",
    "    return fib_recursive(abs(n))\n",
    "  else:\n",
    "    return -fib_recursive(abs(n))"
   ]
  },
  {
   "cell_type": "code",
   "execution_count": 128,
   "metadata": {},
   "outputs": [],
   "source": [
    "def fib1(n: int) -> int:\n",
    "  \"\"\"\n",
    "  Reccursive algorithm for generating n-th Fibonacci term.\n",
    "  Adapted for negative n as well.\n",
    "  \"\"\"\n",
    "  \n",
    "  if n < 0:\n",
    "    return fib_recursive_neg(n)\n",
    "  else:\n",
    "    return fib_recursive(n)"
   ]
  },
  {
   "cell_type": "code",
   "execution_count": 129,
   "metadata": {},
   "outputs": [
    {
     "name": "stdout",
     "output_type": "stream",
     "text": [
      "0.0\n",
      "0.0\n",
      "0.0\n",
      "0.0\n",
      "0.0\n",
      "0.0\n",
      "0.0\n",
      "0.0\n",
      "0.001005411148071289\n",
      "0.00099945068359375\n",
      "0.001996755599975586\n",
      "0.007048130035400391\n",
      "0.017999649047851562\n",
      "0.0449984073638916\n",
      "0.1139516830444336\n",
      "0.2993204593658447\n",
      "0.7780797481536865\n",
      "2.0206077098846436\n",
      "5.327888488769531\n",
      "13.859094619750977\n",
      "36.39543414115906\n"
     ]
    }
   ],
   "source": [
    "# make data\n",
    "arr = [n for n in range(0, 41, 2)]\n",
    "ellapsed_time = []\n",
    "for n in arr:\n",
    "  start = t.time()\n",
    "  fib1(n)\n",
    "  end = t.time()\n",
    "  print(end-start)\n",
    "  ellapsed_time.append(end-start)"
   ]
  },
  {
   "cell_type": "code",
   "execution_count": 130,
   "metadata": {},
   "outputs": [
    {
     "data": {
      "image/png": "[encoded data removed]",
      "text/plain": [
       "<Figure size 640x480 with 1 Axes>"
      ]
     },
     "metadata": {},
     "output_type": "display_data"
    }
   ],
   "source": [
    "# plot\n",
    "fig, ax = plt.subplots()\n",
    "\n",
    "ax.plot(arr, ellapsed_time, linewidth=1.5, color=\"blue\", marker=\"o\", markersize=4.2)\n",
    "ax.set_xlabel(\"n-th Fibonacci Term\")\n",
    "ax.set_ylabel(\"Time, s\")\n",
    "ax.set_title(\"Recursive Fibonacci\")\n",
    "\n",
    "plt.show()"
   ]
  },
  {
   "cell_type": "code",
   "execution_count": 131,
   "metadata": {},
   "outputs": [
    {
     "data": {
      "text/html": [
       "<table>\n",
       "    <thead>\n",
       "        <tr>\n",
       "            <th>n</th>\n",
       "            <th>0</th>\n",
       "            <th>2</th>\n",
       "            <th>4</th>\n",
       "            <th>6</th>\n",
       "            <th>8</th>\n",
       "            <th>10</th>\n",
       "            <th>12</th>\n",
       "            <th>14</th>\n",
       "            <th>16</th>\n",
       "            <th>18</th>\n",
       "            <th>20</th>\n",
       "            <th>22</th>\n",
       "            <th>24</th>\n",
       "            <th>26</th>\n",
       "            <th>28</th>\n",
       "            <th>30</th>\n",
       "            <th>32</th>\n",
       "            <th>34</th>\n",
       "            <th>36</th>\n",
       "            <th>38</th>\n",
       "            <th>40</th>\n",
       "        </tr>\n",
       "    </thead>\n",
       "    <tbody>\n",
       "        <tr>\n",
       "            <td>Time, s</td>\n",
       "            <td>0.0</td>\n",
       "            <td>0.0</td>\n",
       "            <td>0.0</td>\n",
       "            <td>0.0</td>\n",
       "            <td>0.0</td>\n",
       "            <td>0.0</td>\n",
       "            <td>0.0</td>\n",
       "            <td>0.0</td>\n",
       "            <td>0.001</td>\n",
       "            <td>0.001</td>\n",
       "            <td>0.002</td>\n",
       "            <td>0.007</td>\n",
       "            <td>0.018</td>\n",
       "            <td>0.045</td>\n",
       "            <td>0.114</td>\n",
       "            <td>0.299</td>\n",
       "            <td>0.778</td>\n",
       "            <td>2.021</td>\n",
       "            <td>5.328</td>\n",
       "            <td>13.859</td>\n",
       "            <td>36.395</td>\n",
       "        </tr>\n",
       "    </tbody>\n",
       "</table>"
      ],
      "text/plain": [
       "+---------+-----+-----+-----+-----+-----+-----+-----+-----+-------+-------+-------+-------+-------+-------+-------+-------+-------+-------+-------+--------+--------+\n",
       "|    n    |  0  |  2  |  4  |  6  |  8  |  10 |  12 |  14 |   16  |   18  |   20  |   22  |   24  |   26  |   28  |   30  |   32  |   34  |   36  |   38   |   40   |\n",
       "+---------+-----+-----+-----+-----+-----+-----+-----+-----+-------+-------+-------+-------+-------+-------+-------+-------+-------+-------+-------+--------+--------+\n",
       "| Time, s | 0.0 | 0.0 | 0.0 | 0.0 | 0.0 | 0.0 | 0.0 | 0.0 | 0.001 | 0.001 | 0.002 | 0.007 | 0.018 | 0.045 | 0.114 | 0.299 | 0.778 | 2.021 | 5.328 | 13.859 | 36.395 |\n",
       "+---------+-----+-----+-----+-----+-----+-----+-----+-----+-------+-------+-------+-------+-------+-------+-------+-------+-------+-------+-------+--------+--------+"
      ]
     },
     "execution_count": 131,
     "metadata": {},
     "output_type": "execute_result"
    }
   ],
   "source": [
    "table = PrettyTable()\n",
    "table.field_names = [\"n\"] + arr\n",
    "table.add_row([\"Time, s\"] + [round(x, 3) for x in ellapsed_time])\n",
    "table"
   ]
  },
  {
   "cell_type": "code",
   "execution_count": 132,
   "metadata": {},
   "outputs": [],
   "source": [
    "def fib2(n: int) -> int:\n",
    "  \"\"\"\n",
    "  Memoized dynamic-programming algorithm for computing n-th term of Fibonacci sequence.\n",
    "  \"\"\"\n",
    "  memo = [0, 1]\n",
    "  for i in range(2, n+1):\n",
    "    memo.append(memo[i-1] + memo[i-2])\n",
    "  return memo[n]\n"
   ]
  },
  {
   "cell_type": "code",
   "execution_count": 133,
   "metadata": {},
   "outputs": [
    {
     "name": "stdout",
     "output_type": "stream",
     "text": [
      "13\n"
     ]
    }
   ],
   "source": [
    "print(fib2(7))"
   ]
  },
  {
   "cell_type": "code",
   "execution_count": 394,
   "metadata": {},
   "outputs": [],
   "source": [
    "# make data\n",
    "arr = [n for n in range(0, 12001, 1000)]\n",
    "ellapsed_time = []\n",
    "for n in arr:\n",
    "  start = t.time()\n",
    "  fib2(n)\n",
    "  end = t.time()\n",
    "  ellapsed_time.append(end-start)"
   ]
  },
  {
   "cell_type": "code",
   "execution_count": 395,
   "metadata": {},
   "outputs": [
    {
     "data": {
      "image/png": "[encoded data removed]",
      "text/plain": [
       "<Figure size 640x480 with 1 Axes>"
      ]
     },
     "metadata": {},
     "output_type": "display_data"
    }
   ],
   "source": [
    "# plot\n",
    "fig, ax = plt.subplots()\n",
    "\n",
    "ax.plot(arr, ellapsed_time, linewidth=1.5, color=\"blue\", marker=\"o\", markersize=4.2)\n",
    "ax.set_xlabel(\"n-th Fibonacci Term\")\n",
    "ax.set_ylabel(\"Time, s\")\n",
    "ax.set_title(\"DP Fibonacci\")\n",
    "\n",
    "plt.show()"
   ]
  },
  {
   "cell_type": "code",
   "execution_count": 396,
   "metadata": {},
   "outputs": [
    {
     "data": {
      "text/html": [
       "<table>\n",
       "    <thead>\n",
       "        <tr>\n",
       "            <th>n</th>\n",
       "            <th>0</th>\n",
       "            <th>1000</th>\n",
       "            <th>2000</th>\n",
       "            <th>3000</th>\n",
       "            <th>4000</th>\n",
       "            <th>5000</th>\n",
       "            <th>6000</th>\n",
       "            <th>7000</th>\n",
       "            <th>8000</th>\n",
       "            <th>9000</th>\n",
       "            <th>10000</th>\n",
       "            <th>11000</th>\n",
       "            <th>12000</th>\n",
       "        </tr>\n",
       "    </thead>\n",
       "    <tbody>\n",
       "        <tr>\n",
       "            <td>Time, s</td>\n",
       "            <td>0.0</td>\n",
       "            <td>0.0</td>\n",
       "            <td>0.001375</td>\n",
       "            <td>0.001237</td>\n",
       "            <td>0.00194</td>\n",
       "            <td>0.000999</td>\n",
       "            <td>0.005229</td>\n",
       "            <td>0.003023</td>\n",
       "            <td>0.0</td>\n",
       "            <td>0.008311</td>\n",
       "            <td>0.004975</td>\n",
       "            <td>0.002422</td>\n",
       "            <td>0.010216</td>\n",
       "        </tr>\n",
       "    </tbody>\n",
       "</table>"
      ],
      "text/plain": [
       "+---------+-----+------+----------+----------+---------+----------+----------+----------+------+----------+----------+----------+----------+\n",
       "|    n    |  0  | 1000 |   2000   |   3000   |   4000  |   5000   |   6000   |   7000   | 8000 |   9000   |  10000   |  11000   |  12000   |\n",
       "+---------+-----+------+----------+----------+---------+----------+----------+----------+------+----------+----------+----------+----------+\n",
       "| Time, s | 0.0 | 0.0  | 0.001375 | 0.001237 | 0.00194 | 0.000999 | 0.005229 | 0.003023 | 0.0  | 0.008311 | 0.004975 | 0.002422 | 0.010216 |\n",
       "+---------+-----+------+----------+----------+---------+----------+----------+----------+------+----------+----------+----------+----------+"
      ]
     },
     "execution_count": 396,
     "metadata": {},
     "output_type": "execute_result"
    }
   ],
   "source": [
    "table = PrettyTable()\n",
    "table.field_names = [\"n\"] + arr\n",
    "table.add_row([\"Time, s\"] + [round(x, 6) for x in ellapsed_time])\n",
    "table"
   ]
  },
  {
   "cell_type": "code",
   "execution_count": 424,
   "metadata": {},
   "outputs": [],
   "source": [
    "def fib3(n: int) -> int:\n",
    "  \"\"\"Returns n-th term of Fibonacci sequence using Binet formula.\"\"\"\n",
    "\n",
    "  ctx = Context(prec=101, rounding=ROUND_CEILING)\n",
    "  term1 = ctx.power(\n",
    "    ctx.divide(\n",
    "      Decimal(1) + Decimal(5).sqrt(), Decimal(2)\n",
    "    ), \n",
    "      Decimal(n)\n",
    "  )\n",
    "  term2 = ctx.power(\n",
    "    ctx.divide(\n",
    "      Decimal(1) - Decimal(5).sqrt(), Decimal(2)\n",
    "    ), \n",
    "    Decimal(n)\n",
    "  )\n",
    "\n",
    "  return round(ctx.divide(ctx.subtract(term1, term2), Decimal(5).sqrt()))"
   ]
  },
  {
   "cell_type": "code",
   "execution_count": 435,
   "metadata": {},
   "outputs": [
    {
     "data": {
      "text/plain": [
       "43566776258854844738105"
      ]
     },
     "execution_count": 435,
     "metadata": {},
     "output_type": "execute_result"
    }
   ],
   "source": [
    "fib3(110)"
   ]
  },
  {
   "cell_type": "code",
   "execution_count": 276,
   "metadata": {},
   "outputs": [],
   "source": [
    "# make data\n",
    "arr = [n for n in range(0, 12001, 1000)]\n",
    "ellapsed_time = []\n",
    "for n in arr:\n",
    "  start = t.time()\n",
    "  fib3(n)\n",
    "  end = t.time()\n",
    "  ellapsed_time.append(end-start)"
   ]
  },
  {
   "cell_type": "code",
   "execution_count": 277,
   "metadata": {},
   "outputs": [
    {
     "data": {
      "image/png": "[encoded data removed]",
      "text/plain": [
       "<Figure size 640x480 with 1 Axes>"
      ]
     },
     "metadata": {},
     "output_type": "display_data"
    }
   ],
   "source": [
    "# plot\n",
    "fig, ax = plt.subplots()\n",
    "\n",
    "ax.plot(arr, ellapsed_time, linewidth=1.5, color=\"blue\", marker=\"o\", markersize=4.2)\n",
    "ax.set_xlabel(\"n-th Fibonacci Term\")\n",
    "ax.set_ylabel(\"Time, s\")\n",
    "ax.set_title(\"Binet Formula\")\n",
    "\n",
    "plt.show()"
   ]
  },
  {
   "cell_type": "code",
   "execution_count": 278,
   "metadata": {},
   "outputs": [
    {
     "data": {
      "text/html": [
       "<table>\n",
       "    <thead>\n",
       "        <tr>\n",
       "            <th>n</th>\n",
       "            <th>0</th>\n",
       "            <th>1000</th>\n",
       "            <th>2000</th>\n",
       "            <th>3000</th>\n",
       "            <th>4000</th>\n",
       "            <th>5000</th>\n",
       "            <th>6000</th>\n",
       "            <th>7000</th>\n",
       "            <th>8000</th>\n",
       "            <th>9000</th>\n",
       "            <th>10000</th>\n",
       "            <th>11000</th>\n",
       "            <th>12000</th>\n",
       "        </tr>\n",
       "    </thead>\n",
       "    <tbody>\n",
       "        <tr>\n",
       "            <td>Time, s</td>\n",
       "            <td>0.0</td>\n",
       "            <td>0.0</td>\n",
       "            <td>0.0</td>\n",
       "            <td>0.0</td>\n",
       "            <td>0.0</td>\n",
       "            <td>0.0</td>\n",
       "            <td>0.0</td>\n",
       "            <td>0.0</td>\n",
       "            <td>0.0</td>\n",
       "            <td>0.0</td>\n",
       "            <td>0.000965</td>\n",
       "            <td>0.0</td>\n",
       "            <td>0.0</td>\n",
       "        </tr>\n",
       "    </tbody>\n",
       "</table>"
      ],
      "text/plain": [
       "+---------+-----+------+------+------+------+------+------+------+------+------+----------+-------+-------+\n",
       "|    n    |  0  | 1000 | 2000 | 3000 | 4000 | 5000 | 6000 | 7000 | 8000 | 9000 |  10000   | 11000 | 12000 |\n",
       "+---------+-----+------+------+------+------+------+------+------+------+------+----------+-------+-------+\n",
       "| Time, s | 0.0 | 0.0  | 0.0  | 0.0  | 0.0  | 0.0  | 0.0  | 0.0  | 0.0  | 0.0  | 0.000965 |  0.0  |  0.0  |\n",
       "+---------+-----+------+------+------+------+------+------+------+------+------+----------+-------+-------+"
      ]
     },
     "execution_count": 278,
     "metadata": {},
     "output_type": "execute_result"
    }
   ],
   "source": [
    "table = PrettyTable()\n",
    "table.field_names = [\"n\"] + arr\n",
    "table.add_row([\"Time, s\"] + [round(x, 6) for x in ellapsed_time])\n",
    "table"
   ]
  },
  {
   "cell_type": "code",
   "execution_count": 3,
   "metadata": {},
   "outputs": [],
   "source": [
    "def mult_mtrx(A, B):\n",
    "  \"\"\"Returns product of two 2x2 matrices A and B.\"\"\"\n",
    "  \n",
    "  M = [[0, 0], [0, 0]]\n",
    "  M[0][0] = A[0][0] * B[0][0] + A[0][1] * B[1][0]\n",
    "  M[0][1] = A[0][0] * B[0][1] + A[0][1] * B[1][1]\n",
    "  M[1][0] = A[1][0] * B[0][0] + A[1][1] * B[1][0]\n",
    "  M[1][1] = A[1][0] * B[0][1] + A[1][1] * B[1][1]\n",
    "  return M"
   ]
  },
  {
   "cell_type": "code",
   "execution_count": 4,
   "metadata": {},
   "outputs": [],
   "source": [
    "def pow_mtrx(M, n: int):\n",
    "  \"\"\"Returns n-th power of 2x2 matrix M.\"\"\"\n",
    "  \n",
    "  A = [[1, 0], [0, 1]]\n",
    "  if n == 0:\n",
    "    return A\n",
    "  for i in range(n):\n",
    "    A = mult_mtrx(M, A)\n",
    "  return A"
   ]
  },
  {
   "cell_type": "code",
   "execution_count": 296,
   "metadata": {},
   "outputs": [
    {
     "data": {
      "text/plain": [
       "[[2, 1], [1, 1]]"
      ]
     },
     "execution_count": 296,
     "metadata": {},
     "output_type": "execute_result"
    }
   ],
   "source": [
    "pow_mtrx([[1, 1], [1, 0]], 2)"
   ]
  },
  {
   "cell_type": "code",
   "execution_count": 297,
   "metadata": {},
   "outputs": [],
   "source": [
    "def fib4(n: int) -> int:\n",
    "  \"\"\"Algorithm for computing n-th term of Fibonacci sequence using Matrix Power Method.\"\"\"\n",
    "  \n",
    "  F = [[1, 1], [1, 0]]\n",
    "  if n == 0:\n",
    "    return 0\n",
    "  else:\n",
    "    return pow_mtrx(F, n-1)[0][0]"
   ]
  },
  {
   "cell_type": "code",
   "execution_count": 304,
   "metadata": {},
   "outputs": [
    {
     "name": "stdout",
     "output_type": "stream",
     "text": [
      "0\n",
      "1\n",
      "1\n",
      "2\n",
      "3\n",
      "5\n",
      "8\n",
      "13\n",
      "21\n",
      "34\n"
     ]
    }
   ],
   "source": [
    "for i in range(10):\n",
    "  print(fib4(i))"
   ]
  },
  {
   "cell_type": "code",
   "execution_count": 306,
   "metadata": {},
   "outputs": [],
   "source": [
    "# make data\n",
    "arr = [n for n in range(0, 12001, 1000)]\n",
    "ellapsed_time = []\n",
    "for n in arr:\n",
    "  start = t.time()\n",
    "  fib4(n)\n",
    "  end = t.time()\n",
    "  ellapsed_time.append(end-start)"
   ]
  },
  {
   "cell_type": "code",
   "execution_count": 308,
   "metadata": {},
   "outputs": [
    {
     "data": {
      "image/png": "[encoded data removed]",
      "text/plain": [
       "<Figure size 640x480 with 1 Axes>"
      ]
     },
     "metadata": {},
     "output_type": "display_data"
    }
   ],
   "source": [
    "# plot\n",
    "fig, ax = plt.subplots()\n",
    "\n",
    "ax.plot(arr, ellapsed_time, linewidth=1.5, color=\"blue\", marker=\"o\", markersize=4.2)\n",
    "ax.set_xlabel(\"n-th Fibonacci Term\")\n",
    "ax.set_ylabel(\"Time, s\")\n",
    "ax.set_title(\"Matrix Power Method\")\n",
    "\n",
    "plt.show()"
   ]
  },
  {
   "cell_type": "code",
   "execution_count": 309,
   "metadata": {},
   "outputs": [
    {
     "data": {
      "text/html": [
       "<table>\n",
       "    <thead>\n",
       "        <tr>\n",
       "            <th>n</th>\n",
       "            <th>0</th>\n",
       "            <th>1000</th>\n",
       "            <th>2000</th>\n",
       "            <th>3000</th>\n",
       "            <th>4000</th>\n",
       "            <th>5000</th>\n",
       "            <th>6000</th>\n",
       "            <th>7000</th>\n",
       "            <th>8000</th>\n",
       "            <th>9000</th>\n",
       "            <th>10000</th>\n",
       "            <th>11000</th>\n",
       "            <th>12000</th>\n",
       "        </tr>\n",
       "    </thead>\n",
       "    <tbody>\n",
       "        <tr>\n",
       "            <td>Time, s</td>\n",
       "            <td>0.0</td>\n",
       "            <td>0.000995</td>\n",
       "            <td>0.002998</td>\n",
       "            <td>0.005053</td>\n",
       "            <td>0.007089</td>\n",
       "            <td>0.007931</td>\n",
       "            <td>0.011035</td>\n",
       "            <td>0.013957</td>\n",
       "            <td>0.018032</td>\n",
       "            <td>0.021</td>\n",
       "            <td>0.024564</td>\n",
       "            <td>0.027001</td>\n",
       "            <td>0.031034</td>\n",
       "        </tr>\n",
       "    </tbody>\n",
       "</table>"
      ],
      "text/plain": [
       "+---------+-----+----------+----------+----------+----------+----------+----------+----------+----------+-------+----------+----------+----------+\n",
       "|    n    |  0  |   1000   |   2000   |   3000   |   4000   |   5000   |   6000   |   7000   |   8000   |  9000 |  10000   |  11000   |  12000   |\n",
       "+---------+-----+----------+----------+----------+----------+----------+----------+----------+----------+-------+----------+----------+----------+\n",
       "| Time, s | 0.0 | 0.000995 | 0.002998 | 0.005053 | 0.007089 | 0.007931 | 0.011035 | 0.013957 | 0.018032 | 0.021 | 0.024564 | 0.027001 | 0.031034 |\n",
       "+---------+-----+----------+----------+----------+----------+----------+----------+----------+----------+-------+----------+----------+----------+"
      ]
     },
     "execution_count": 309,
     "metadata": {},
     "output_type": "execute_result"
    }
   ],
   "source": [
    "table = PrettyTable()\n",
    "table.field_names = [\"n\"] + arr\n",
    "table.add_row([\"Time, s\"] + [round(x, 6) for x in ellapsed_time])\n",
    "table"
   ]
  },
  {
   "cell_type": "code",
   "execution_count": 406,
   "metadata": {},
   "outputs": [],
   "source": [
    "def fib5_recursive(n: int, F: list) -> int:\n",
    "  \"\"\"\n",
    "  Recursive subroutine for computing n-th Fibonacci number. Uses recursive formula\n",
    "  for F_2k and F_2k+1 (even/odd) terms.\n",
    "  \"\"\"\n",
    "\n",
    "  if n == 0:\n",
    "    F[n] = 0\n",
    "  elif n in [1, 2]:\n",
    "    F[n] = 1\n",
    "  else:\n",
    "    k = n // 2\n",
    "    f1 = fib5_recursive(k, F)\n",
    "    f2 = fib5_recursive(k + 1, F)\n",
    "    if n % 2 == 0:\n",
    "      F[n] = 2 * f1 * f2 - f1 * f1\n",
    "    else:\n",
    "      F[n] = f2 * f2 + f1 * f1\n",
    "  return F[n]\n",
    "\n",
    "def fib5(n: int) -> int:\n",
    "  \"\"\"\n",
    "  Algorithm for computing n-th Fibonacci term using another \n",
    "  recursive formula for odd/even terms.\n",
    "  \"\"\"\n",
    "\n",
    "  F = [0] * (n + 1)\n",
    "  return fib5_recursive(n, F)\n"
   ]
  },
  {
   "cell_type": "code",
   "execution_count": 407,
   "metadata": {},
   "outputs": [],
   "source": [
    "def fib5(n: int) -> int:\n",
    "  \"\"\"\n",
    "  Algorithm for computing n-th Fibonacci term using another \n",
    "  recursive formula for odd/even terms.\n",
    "  \"\"\"\n",
    "\n",
    "  F = [0] * (n + 1)\n",
    "  return fib5_recursive(n, F)"
   ]
  },
  {
   "cell_type": "code",
   "execution_count": 408,
   "metadata": {},
   "outputs": [
    {
     "name": "stdout",
     "output_type": "stream",
     "text": [
      "0\n",
      "1\n",
      "1\n",
      "2\n",
      "3\n",
      "5\n",
      "8\n",
      "13\n",
      "21\n",
      "34\n"
     ]
    }
   ],
   "source": [
    "for i in range(10):\n",
    "  print(fib5(i))"
   ]
  },
  {
   "cell_type": "code",
   "execution_count": 409,
   "metadata": {},
   "outputs": [],
   "source": [
    "# make data\n",
    "arr = [n for n in range(0, 12001, 1000)]\n",
    "ellapsed_time = []\n",
    "for n in arr:\n",
    "  start = t.time()\n",
    "  fib5(n)\n",
    "  end = t.time()\n",
    "  ellapsed_time.append(end-start)"
   ]
  },
  {
   "cell_type": "code",
   "execution_count": 410,
   "metadata": {},
   "outputs": [
    {
     "data": {
      "image/png": "[encoded data removed]",
      "text/plain": [
       "<Figure size 640x480 with 1 Axes>"
      ]
     },
     "metadata": {},
     "output_type": "display_data"
    }
   ],
   "source": [
    "# plot\n",
    "fig, ax = plt.subplots()\n",
    "\n",
    "ax.plot(arr, ellapsed_time, linewidth=1.5, color=\"blue\", marker=\"o\", markersize=4.2)\n",
    "ax.set_xlabel(\"n-th Fibonacci Term\")\n",
    "ax.set_ylabel(\"Time, s\")\n",
    "ax.set_title(\"Odd-even Recursive Method\")\n",
    "\n",
    "plt.show()"
   ]
  },
  {
   "cell_type": "code",
   "execution_count": 411,
   "metadata": {},
   "outputs": [
    {
     "data": {
      "text/html": [
       "<table>\n",
       "    <thead>\n",
       "        <tr>\n",
       "            <th>n</th>\n",
       "            <th>0</th>\n",
       "            <th>1000</th>\n",
       "            <th>2000</th>\n",
       "            <th>3000</th>\n",
       "            <th>4000</th>\n",
       "            <th>5000</th>\n",
       "            <th>6000</th>\n",
       "            <th>7000</th>\n",
       "            <th>8000</th>\n",
       "            <th>9000</th>\n",
       "            <th>10000</th>\n",
       "            <th>11000</th>\n",
       "            <th>12000</th>\n",
       "        </tr>\n",
       "    </thead>\n",
       "    <tbody>\n",
       "        <tr>\n",
       "            <td>Time, s</td>\n",
       "            <td>0.0</td>\n",
       "            <td>0.0</td>\n",
       "            <td>0.001322</td>\n",
       "            <td>0.001323</td>\n",
       "            <td>0.001037</td>\n",
       "            <td>0.0</td>\n",
       "            <td>0.006237</td>\n",
       "            <td>0.002336</td>\n",
       "            <td>0.003714</td>\n",
       "            <td>0.003345</td>\n",
       "            <td>0.005644</td>\n",
       "            <td>0.004056</td>\n",
       "            <td>0.003791</td>\n",
       "        </tr>\n",
       "    </tbody>\n",
       "</table>"
      ],
      "text/plain": [
       "+---------+-----+------+----------+----------+----------+------+----------+----------+----------+----------+----------+----------+----------+\n",
       "|    n    |  0  | 1000 |   2000   |   3000   |   4000   | 5000 |   6000   |   7000   |   8000   |   9000   |  10000   |  11000   |  12000   |\n",
       "+---------+-----+------+----------+----------+----------+------+----------+----------+----------+----------+----------+----------+----------+\n",
       "| Time, s | 0.0 | 0.0  | 0.001322 | 0.001323 | 0.001037 | 0.0  | 0.006237 | 0.002336 | 0.003714 | 0.003345 | 0.005644 | 0.004056 | 0.003791 |\n",
       "+---------+-----+------+----------+----------+----------+------+----------+----------+----------+----------+----------+----------+----------+"
      ]
     },
     "execution_count": 411,
     "metadata": {},
     "output_type": "execute_result"
    }
   ],
   "source": [
    "table = PrettyTable()\n",
    "table.field_names = [\"n\"] + arr\n",
    "table.add_row([\"Time, s\"] + [round(x, 6) for x in ellapsed_time])\n",
    "table"
   ]
  },
  {
   "cell_type": "code",
   "execution_count": 1,
   "metadata": {},
   "outputs": [],
   "source": [
    "def pow_mtrx_eff(M, n: int):\n",
    "  \"\"\"\n",
    "  Multiplication of matrices using reapeated square method.\n",
    "  \"\"\"\n",
    "  \n",
    "  A = [[1, 0], [0, 1]]\n",
    "  if n == 0:\n",
    "    return A\n",
    "  elif n % 2 == 0:\n",
    "    return pow_mtrx_eff(mult_mtrx(M, M), n // 2)\n",
    "  else:\n",
    "    return mult_mtrx(\n",
    "      M,\n",
    "      pow_mtrx_eff(mult_mtrx(M, M), (n-1) // 2)\n",
    "    )"
   ]
  },
  {
   "cell_type": "code",
   "execution_count": 5,
   "metadata": {},
   "outputs": [
    {
     "name": "stdout",
     "output_type": "stream",
     "text": [
      "[[13, 8], [8, 5]]\n"
     ]
    }
   ],
   "source": [
    "A = [[1, 1], [1, 0]]\n",
    "print(pow_mtrx_eff(A, 6))"
   ]
  },
  {
   "cell_type": "code",
   "execution_count": 6,
   "metadata": {},
   "outputs": [],
   "source": [
    "def fib6(n: int) -> int:\n",
    "  \"\"\"\n",
    "  Repeated Squares Method for computing n-th term of Fibonacci sequence.\n",
    "  For base algorithm is used Matrix Power approach.\n",
    "  \"\"\"\n",
    "\n",
    "  M = [[1, 1], [1, 0]]\n",
    "  if n == 0:\n",
    "    return 0\n",
    "  else:\n",
    "    return pow_mtrx_eff(M, n-1)[0][0]"
   ]
  },
  {
   "cell_type": "code",
   "execution_count": 7,
   "metadata": {},
   "outputs": [
    {
     "ename": "NameError",
     "evalue": "name 'fib3' is not defined",
     "output_type": "error",
     "traceback": [
      "\u001b[1;31m---------------------------------------------------------------------------\u001b[0m",
      "\u001b[1;31mNameError\u001b[0m                                 Traceback (most recent call last)",
      "\u001b[1;32m~\\AppData\\Local\\Temp\\ipykernel_7912\\3321051773.py\u001b[0m in \u001b[0;36m<module>\u001b[1;34m\u001b[0m\n\u001b[1;32m----> 1\u001b[1;33m \u001b[0mprint\u001b[0m\u001b[1;33m(\u001b[0m\u001b[0mfib3\u001b[0m\u001b[1;33m(\u001b[0m\u001b[1;36m124\u001b[0m\u001b[1;33m)\u001b[0m\u001b[1;33m)\u001b[0m\u001b[1;33m\u001b[0m\u001b[1;33m\u001b[0m\u001b[0m\n\u001b[0m\u001b[0;32m      2\u001b[0m \u001b[0mprint\u001b[0m\u001b[1;33m(\u001b[0m\u001b[0mfib6\u001b[0m\u001b[1;33m(\u001b[0m\u001b[1;36m124\u001b[0m\u001b[1;33m)\u001b[0m\u001b[1;33m)\u001b[0m\u001b[1;33m\u001b[0m\u001b[1;33m\u001b[0m\u001b[0m\n",
      "\u001b[1;31mNameError\u001b[0m: name 'fib3' is not defined"
     ]
    }
   ],
   "source": [
    "print(fib3(124))\n",
    "print(fib6(124))"
   ]
  },
  {
   "cell_type": "code",
   "execution_count": 10,
   "metadata": {},
   "outputs": [],
   "source": [
    "# make data\n",
    "arr = [n for n in range(0, 1200001, 1000)]\n",
    "ellapsed_time = []\n",
    "for n in arr:\n",
    "  start = t.time()\n",
    "  fib6(n)\n",
    "  end = t.time()\n",
    "  ellapsed_time.append(end-start)"
   ]
  },
  {
   "cell_type": "code",
   "execution_count": 13,
   "metadata": {},
   "outputs": [
    {
     "data": {
      "image/png": "[encoded data removed]",
      "text/plain": [
       "<Figure size 640x480 with 1 Axes>"
      ]
     },
     "metadata": {},
     "output_type": "display_data"
    }
   ],
   "source": [
    "# plot\n",
    "fig, ax = plt.subplots()\n",
    "\n",
    "ax.plot(arr, ellapsed_time, \"o\", color=\"blue\", markersize=2.2)\n",
    "ax.set_xlabel(\"n-th Fibonacci Term\")\n",
    "ax.set_ylabel(\"Time, s\")\n",
    "ax.set_title(\"Repeated Squares Method\")\n",
    "\n",
    "plt.show()"
   ]
  },
  {
   "cell_type": "code",
   "execution_count": 404,
   "metadata": {},
   "outputs": [
    {
     "data": {
      "text/html": [
       "<table>\n",
       "    <thead>\n",
       "        <tr>\n",
       "            <th>n</th>\n",
       "            <th>0</th>\n",
       "            <th>1000</th>\n",
       "            <th>2000</th>\n",
       "            <th>3000</th>\n",
       "            <th>4000</th>\n",
       "            <th>5000</th>\n",
       "            <th>6000</th>\n",
       "            <th>7000</th>\n",
       "            <th>8000</th>\n",
       "            <th>9000</th>\n",
       "            <th>10000</th>\n",
       "            <th>11000</th>\n",
       "            <th>12000</th>\n",
       "        </tr>\n",
       "    </thead>\n",
       "    <tbody>\n",
       "        <tr>\n",
       "            <td>Time, s</td>\n",
       "            <td>0.0</td>\n",
       "            <td>0.0010354519</td>\n",
       "            <td>0.0</td>\n",
       "            <td>0.0</td>\n",
       "            <td>0.0</td>\n",
       "            <td>0.0</td>\n",
       "            <td>0.0</td>\n",
       "            <td>0.0010015965</td>\n",
       "            <td>0.0</td>\n",
       "            <td>0.0</td>\n",
       "            <td>0.0</td>\n",
       "            <td>0.0</td>\n",
       "            <td>0.0</td>\n",
       "        </tr>\n",
       "    </tbody>\n",
       "</table>"
      ],
      "text/plain": [
       "+---------+-----+--------------+------+------+------+------+------+--------------+------+------+-------+-------+-------+\n",
       "|    n    |  0  |     1000     | 2000 | 3000 | 4000 | 5000 | 6000 |     7000     | 8000 | 9000 | 10000 | 11000 | 12000 |\n",
       "+---------+-----+--------------+------+------+------+------+------+--------------+------+------+-------+-------+-------+\n",
       "| Time, s | 0.0 | 0.0010354519 | 0.0  | 0.0  | 0.0  | 0.0  | 0.0  | 0.0010015965 | 0.0  | 0.0  |  0.0  |  0.0  |  0.0  |\n",
       "+---------+-----+--------------+------+------+------+------+------+--------------+------+------+-------+-------+-------+"
      ]
     },
     "execution_count": 404,
     "metadata": {},
     "output_type": "execute_result"
    }
   ],
   "source": [
    "table = PrettyTable()\n",
    "table.field_names = [\"n\"] + arr\n",
    "table.add_row([\"Time, s\"] + [round(x, 10) for x in ellapsed_time])\n",
    "table"
   ]
  },
  {
   "cell_type": "code",
   "execution_count": null,
   "metadata": {},
   "outputs": [],
   "source": []
  }
 ],
 "metadata": {
  "kernelspec": {
   "display_name": "Python 3",
   "language": "python",
   "name": "python3"
  },
  "language_info": {
   "codemirror_mode": {
    "name": "ipython",
    "version": 3
   },
   "file_extension": ".py",
   "mimetype": "text/x-python",
   "name": "python",
   "nbconvert_exporter": "python",
   "pygments_lexer": "ipython3",
   "version": "3.7.9"
  },
  "orig_nbformat": 4,
  "vscode": {
   "interpreter": {
    "hash": "0126f856c21d1253b0ab8f7b1ac537c1519b292afd7ada1f6ca165270b285935"
   }
  }
 },
 "nbformat": 4,
 "nbformat_minor": 2
}
