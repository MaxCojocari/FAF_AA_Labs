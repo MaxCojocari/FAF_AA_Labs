{
 "cells": [
  {
   "cell_type": "code",
   "execution_count": 258,
   "metadata": {},
   "outputs": [],
   "source": [
    "import matplotlib.pyplot as plt\n",
    "import numpy as np\n",
    "import time as t\n",
    "import timeit\n",
    "import random\n",
    "from prettytable import PrettyTable\n",
    "from collections import deque"
   ]
  },
  {
   "cell_type": "code",
   "execution_count": 259,
   "metadata": {},
   "outputs": [],
   "source": [
    "class Graph:\n",
    "    def __init__(self, root):\n",
    "        self.adj = {}\n",
    "        self.root = root\n",
    "        self.vertices = set()\n",
    "\n",
    "    def add_edge(self, u, v):\n",
    "        if u not in self.adj:\n",
    "            self.adj[u] = []\n",
    "        if v not in self.adj:\n",
    "            self.adj[v] = []\n",
    "        self.adj[u].append(v)\n",
    "        self.adj[v].append(u)\n",
    "        self.vertices.add(u)\n",
    "        self.vertices.add(v)"
   ]
  },
  {
   "cell_type": "code",
   "execution_count": 260,
   "metadata": {},
   "outputs": [],
   "source": [
    "def bfs(G: Graph, target: int) -> int:\n",
    "    queue = deque()\n",
    "    queue.append(G.root)\n",
    "    visited = {v: False for v in G.vertices}\n",
    "    \n",
    "    while queue:\n",
    "        node = queue.popleft()\n",
    "        if node == target:\n",
    "            return node\n",
    "        visited[node] = True\n",
    "        for neighbor in G.adj[node]:\n",
    "            if visited[neighbor] == False:\n",
    "                queue.append(neighbor)\n",
    "    return None"
   ]
  },
  {
   "cell_type": "code",
   "execution_count": 261,
   "metadata": {},
   "outputs": [],
   "source": [
    "def dfs(G: Graph, node: int, target: int, visited: dict) -> int:\n",
    "    if node == target:\n",
    "        return node\n",
    "    visited[node] = True\n",
    "    for neighbor in G.adj[node]:\n",
    "        if visited[neighbor] == False:\n",
    "            result = dfs(G, neighbor, target, visited)\n",
    "            if result is not None:\n",
    "                return result\n",
    "    return None"
   ]
  },
  {
   "cell_type": "code",
   "execution_count": 262,
   "metadata": {},
   "outputs": [],
   "source": [
    "G_bal = Graph(1)\n",
    "\n",
    "with open(\"edges_graph_bal.txt\", 'r') as file:\n",
    "    for line in file:\n",
    "        newline = line.split(', ')\n",
    "        pairNodes = []\n",
    "        for token in newline:\n",
    "            pairNodes.append(token.split('\\n')[0])\n",
    "        G_bal.add_edge(int(pairNodes[0]), int(pairNodes[1]))"
   ]
  },
  {
   "cell_type": "code",
   "execution_count": 263,
   "metadata": {},
   "outputs": [
    {
     "data": {
      "text/plain": [
       "[3, 14, 15]"
      ]
     },
     "execution_count": 263,
     "metadata": {},
     "output_type": "execute_result"
    }
   ],
   "source": [
    "G_bal.adj[7]"
   ]
  },
  {
   "cell_type": "code",
   "execution_count": 264,
   "metadata": {},
   "outputs": [],
   "source": [
    "G_unbal = Graph(1)\n",
    "\n",
    "with open(\"edges_graph_unbal.txt\", 'r') as file:\n",
    "    for line in file:\n",
    "        newline = line.split(', ')\n",
    "        pairNodes = []\n",
    "        for token in newline:\n",
    "            pairNodes.append(token.split('\\n')[0])\n",
    "        G_unbal.add_edge(int(pairNodes[0]), int(pairNodes[1]))"
   ]
  },
  {
   "cell_type": "code",
   "execution_count": 265,
   "metadata": {},
   "outputs": [
    {
     "data": {
      "text/plain": [
       "[2, 8]"
      ]
     },
     "execution_count": 265,
     "metadata": {},
     "output_type": "execute_result"
    }
   ],
   "source": [
    "G_unbal.adj[4]"
   ]
  },
  {
   "cell_type": "code",
   "execution_count": 266,
   "metadata": {},
   "outputs": [
    {
     "name": "stdout",
     "output_type": "stream",
     "text": [
      "12\n",
      "None\n"
     ]
    }
   ],
   "source": [
    "print(bfs(G_bal, 12))\n",
    "print(dfs(G_bal, G_bal.root, 0, {v: False for v in G_bal.vertices}))"
   ]
  },
  {
   "cell_type": "code",
   "execution_count": 267,
   "metadata": {},
   "outputs": [
    {
     "data": {
      "text/plain": [
       "[2,\n",
       " 29,\n",
       " 17,\n",
       " 8,\n",
       " 20,\n",
       " 25,\n",
       " 3,\n",
       " 1,\n",
       " 24,\n",
       " 28,\n",
       " 15,\n",
       " 7,\n",
       " 6,\n",
       " 4,\n",
       " 23,\n",
       " 5,\n",
       " 21,\n",
       " 16,\n",
       " 30,\n",
       " 10,\n",
       " 14,\n",
       " 11,\n",
       " 22,\n",
       " 31,\n",
       " 13,\n",
       " 12]"
      ]
     },
     "execution_count": 267,
     "metadata": {},
     "output_type": "execute_result"
    }
   ],
   "source": [
    "nodes_to_find = [\n",
    "    1, 2, 3, 4, 5, 6, 7, 8, \n",
    "    10, 11, 12, 13, 14, 15, \n",
    "    16, 17, 20, 21, 22, 23, \n",
    "    24, 25, 28, 29, 30, 31\n",
    "]\n",
    "random.shuffle(nodes_to_find)\n",
    "nodes_to_find"
   ]
  },
  {
   "cell_type": "code",
   "execution_count": 268,
   "metadata": {},
   "outputs": [],
   "source": [
    "avg_time_bal_dfs = []\n",
    "avg_time_bal_bfs = []\n",
    "cumulative_time_bal_dfs = []\n",
    "cumulative_time_bal_bfs = []"
   ]
  },
  {
   "cell_type": "code",
   "execution_count": 269,
   "metadata": {},
   "outputs": [],
   "source": [
    "for k in range(1, len(nodes_to_find) + 1):\n",
    "    exec_time_dfs = 0\n",
    "    exec_time_bfs = 0\n",
    "    for node in nodes_to_find[:k]:\n",
    "        exec_time_dfs += timeit.timeit(lambda: dfs(G_bal, G_bal.root, node, {v: False for v in G_bal.vertices}), number=1)\n",
    "        exec_time_bfs += timeit.timeit(lambda: bfs(G_bal, node), number = 1)\n",
    "    cumulative_time_bal_dfs.append(exec_time_dfs)\n",
    "    cumulative_time_bal_bfs.append(exec_time_bfs)\n",
    "    avg_time_bal_dfs.append(exec_time_dfs/k)\n",
    "    avg_time_bal_bfs.append(exec_time_bfs/k)"
   ]
  },
  {
   "cell_type": "code",
   "execution_count": 270,
   "metadata": {},
   "outputs": [
    {
     "data": {
      "text/plain": [
       "26"
      ]
     },
     "execution_count": 270,
     "metadata": {},
     "output_type": "execute_result"
    }
   ],
   "source": [
    "len(avg_time_bal_dfs)"
   ]
  },
  {
   "cell_type": "code",
   "execution_count": 271,
   "metadata": {},
   "outputs": [
    {
     "data": {
      "text/html": [
       "<table>\n",
       "    <thead>\n",
       "        <tr>\n",
       "            <th>Nr.vertices</th>\n",
       "            <th>1</th>\n",
       "            <th>3</th>\n",
       "            <th>5</th>\n",
       "            <th>7</th>\n",
       "            <th>9</th>\n",
       "            <th>11</th>\n",
       "            <th>13</th>\n",
       "            <th>15</th>\n",
       "            <th>17</th>\n",
       "            <th>19</th>\n",
       "            <th>21</th>\n",
       "            <th>23</th>\n",
       "            <th>25</th>\n",
       "        </tr>\n",
       "    </thead>\n",
       "    <tbody>\n",
       "        <tr>\n",
       "            <td>Avg.time, s (1e-5)</td>\n",
       "            <td>0.75</td>\n",
       "            <td>0.693</td>\n",
       "            <td>0.62</td>\n",
       "            <td>0.701</td>\n",
       "            <td>0.66</td>\n",
       "            <td>0.787</td>\n",
       "            <td>0.768</td>\n",
       "            <td>0.747</td>\n",
       "            <td>0.724</td>\n",
       "            <td>0.774</td>\n",
       "            <td>0.698</td>\n",
       "            <td>0.679</td>\n",
       "            <td>0.751</td>\n",
       "        </tr>\n",
       "        <tr>\n",
       "            <td>Cum.time, s (1e-5)</td>\n",
       "            <td>0.75</td>\n",
       "            <td>2.08</td>\n",
       "            <td>3.1</td>\n",
       "            <td>4.91</td>\n",
       "            <td>5.94</td>\n",
       "            <td>8.66</td>\n",
       "            <td>9.99</td>\n",
       "            <td>11.2</td>\n",
       "            <td>12.31</td>\n",
       "            <td>14.71</td>\n",
       "            <td>14.65</td>\n",
       "            <td>15.61</td>\n",
       "            <td>18.77</td>\n",
       "        </tr>\n",
       "    </tbody>\n",
       "</table>"
      ],
      "text/plain": [
       "+--------------------+------+-------+------+-------+------+-------+-------+-------+-------+-------+-------+-------+-------+\n",
       "|    Nr.vertices     |  1   |   3   |  5   |   7   |  9   |   11  |   13  |   15  |   17  |   19  |   21  |   23  |   25  |\n",
       "+--------------------+------+-------+------+-------+------+-------+-------+-------+-------+-------+-------+-------+-------+\n",
       "| Avg.time, s (1e-5) | 0.75 | 0.693 | 0.62 | 0.701 | 0.66 | 0.787 | 0.768 | 0.747 | 0.724 | 0.774 | 0.698 | 0.679 | 0.751 |\n",
       "| Cum.time, s (1e-5) | 0.75 |  2.08 | 3.1  |  4.91 | 5.94 |  8.66 |  9.99 |  11.2 | 12.31 | 14.71 | 14.65 | 15.61 | 18.77 |\n",
       "+--------------------+------+-------+------+-------+------+-------+-------+-------+-------+-------+-------+-------+-------+"
      ]
     },
     "execution_count": 271,
     "metadata": {},
     "output_type": "execute_result"
    }
   ],
   "source": [
    "table = PrettyTable()\n",
    "\n",
    "nr_vertices = [i for i in range(1, len(nodes_to_find) + 1)]\n",
    "table.field_names = [\"Nr.vertices\"] + nr_vertices[::2]\n",
    "table.add_row([\"Avg.time, s (1e-5)\"] + [round(x * 10**5, 3) for x in avg_time_bal_dfs[::2]])\n",
    "table.add_row([\"Cum.time, s (1e-5)\"] + [round(x * 10**5, 3) for x in cumulative_time_bal_dfs[::2]])\n",
    "table"
   ]
  },
  {
   "cell_type": "code",
   "execution_count": 272,
   "metadata": {},
   "outputs": [
    {
     "data": {
      "text/html": [
       "<table>\n",
       "    <thead>\n",
       "        <tr>\n",
       "            <th>Nr.vertices</th>\n",
       "            <th>1</th>\n",
       "            <th>3</th>\n",
       "            <th>5</th>\n",
       "            <th>7</th>\n",
       "            <th>9</th>\n",
       "            <th>11</th>\n",
       "            <th>13</th>\n",
       "            <th>15</th>\n",
       "            <th>17</th>\n",
       "            <th>19</th>\n",
       "            <th>21</th>\n",
       "            <th>23</th>\n",
       "            <th>25</th>\n",
       "        </tr>\n",
       "    </thead>\n",
       "    <tbody>\n",
       "        <tr>\n",
       "            <td>Avg.time, s (1e-5)</td>\n",
       "            <td>0.7</td>\n",
       "            <td>0.88</td>\n",
       "            <td>0.838</td>\n",
       "            <td>0.804</td>\n",
       "            <td>0.91</td>\n",
       "            <td>0.801</td>\n",
       "            <td>0.768</td>\n",
       "            <td>0.761</td>\n",
       "            <td>0.736</td>\n",
       "            <td>0.758</td>\n",
       "            <td>0.708</td>\n",
       "            <td>0.722</td>\n",
       "            <td>0.737</td>\n",
       "        </tr>\n",
       "        <tr>\n",
       "            <td>Cum.time, s (1e-5)</td>\n",
       "            <td>0.7</td>\n",
       "            <td>2.64</td>\n",
       "            <td>4.19</td>\n",
       "            <td>5.63</td>\n",
       "            <td>8.19</td>\n",
       "            <td>8.81</td>\n",
       "            <td>9.98</td>\n",
       "            <td>11.42</td>\n",
       "            <td>12.52</td>\n",
       "            <td>14.4</td>\n",
       "            <td>14.86</td>\n",
       "            <td>16.61</td>\n",
       "            <td>18.42</td>\n",
       "        </tr>\n",
       "    </tbody>\n",
       "</table>"
      ],
      "text/plain": [
       "+--------------------+-----+------+-------+-------+------+-------+-------+-------+-------+-------+-------+-------+-------+\n",
       "|    Nr.vertices     |  1  |  3   |   5   |   7   |  9   |   11  |   13  |   15  |   17  |   19  |   21  |   23  |   25  |\n",
       "+--------------------+-----+------+-------+-------+------+-------+-------+-------+-------+-------+-------+-------+-------+\n",
       "| Avg.time, s (1e-5) | 0.7 | 0.88 | 0.838 | 0.804 | 0.91 | 0.801 | 0.768 | 0.761 | 0.736 | 0.758 | 0.708 | 0.722 | 0.737 |\n",
       "| Cum.time, s (1e-5) | 0.7 | 2.64 |  4.19 |  5.63 | 8.19 |  8.81 |  9.98 | 11.42 | 12.52 |  14.4 | 14.86 | 16.61 | 18.42 |\n",
       "+--------------------+-----+------+-------+-------+------+-------+-------+-------+-------+-------+-------+-------+-------+"
      ]
     },
     "execution_count": 272,
     "metadata": {},
     "output_type": "execute_result"
    }
   ],
   "source": [
    "table = PrettyTable()\n",
    "\n",
    "nr_vertices = [i for i in range(1, len(nodes_to_find) + 1)]\n",
    "table.field_names = [\"Nr.vertices\"] + nr_vertices[::2]\n",
    "table.add_row([\"Avg.time, s (1e-5)\"] + [round(x * 10**5, 3) for x in avg_time_bal_bfs[::2]])\n",
    "table.add_row([\"Cum.time, s (1e-5)\"] + [round(x * 10**5, 3) for x in cumulative_time_bal_bfs[::2]])\n",
    "table"
   ]
  },
  {
   "cell_type": "code",
   "execution_count": 273,
   "metadata": {},
   "outputs": [
    {
     "data": {
      "text/plain": [
       "Text(0.5, 1.0, 'Average search time, balanced graph')"
      ]
     },
     "execution_count": 273,
     "metadata": {},
     "output_type": "execute_result"
    },
    {
     "data": {
      "image/png": "[encoded data removed]",
      "text/plain": [
       "<Figure size 1200x400 with 1 Axes>"
      ]
     },
     "metadata": {},
     "output_type": "display_data"
    }
   ],
   "source": [
    "x = np.array([i for i in range(1, len(nodes_to_find) + 1)])\n",
    "width = 0.40\n",
    "\n",
    "plt.figure(figsize=(12,4))\n",
    "\n",
    "plt.bar(x-0.2, avg_time_bal_dfs, width)\n",
    "plt.bar(x+0.2, avg_time_bal_bfs, width)\n",
    "\n",
    "plt.xlabel(\"Nr. vertices\")\n",
    "plt.ylabel(\"Time, s\")\n",
    "plt.legend([\"DFS\", \"BFS\"])\n",
    "plt.title(\"Average search time, balanced graph\")"
   ]
  },
  {
   "cell_type": "code",
   "execution_count": 274,
   "metadata": {},
   "outputs": [
    {
     "data": {
      "text/plain": [
       "Text(0.5, 1.0, 'Cumulative search time, balanced graph')"
      ]
     },
     "execution_count": 274,
     "metadata": {},
     "output_type": "execute_result"
    },
    {
     "data": {
      "image/png": "[encoded data removed]",
      "text/plain": [
       "<Figure size 1200x400 with 1 Axes>"
      ]
     },
     "metadata": {},
     "output_type": "display_data"
    }
   ],
   "source": [
    "x = np.array([i for i in range(1, len(nodes_to_find) + 1)])\n",
    "width = 0.40\n",
    "\n",
    "plt.figure(figsize=(12,4))\n",
    "\n",
    "plt.bar(x-0.2, cumulative_time_bal_dfs, width)\n",
    "plt.bar(x+0.2, cumulative_time_bal_bfs, width)\n",
    "\n",
    "plt.xlabel(\"Nr. vertices\")\n",
    "plt.ylabel(\"Time, s\")\n",
    "plt.legend([\"DFS\", \"BFS\"])\n",
    "plt.title(\"Cumulative search time, balanced graph\")"
   ]
  },
  {
   "cell_type": "code",
   "execution_count": 275,
   "metadata": {},
   "outputs": [],
   "source": [
    "avg_time_unbal_dfs = []\n",
    "avg_time_unbal_bfs = []\n",
    "cumulative_time_unbal_dfs = []\n",
    "cumulative_time_unbal_bfs = []"
   ]
  },
  {
   "cell_type": "code",
   "execution_count": 276,
   "metadata": {},
   "outputs": [],
   "source": [
    "for k in range(1, len(nodes_to_find) + 1):\n",
    "    exec_time_dfs = 0\n",
    "    exec_time_bfs = 0\n",
    "    for node in nodes_to_find[:k]:\n",
    "        exec_time_dfs += timeit.timeit(lambda: dfs(G_unbal, G_unbal.root, node, {v: False for v in G_unbal.vertices}), number=1)\n",
    "        exec_time_bfs += timeit.timeit(lambda: bfs(G_unbal, node), number = 1)\n",
    "    cumulative_time_unbal_dfs.append(exec_time_dfs)\n",
    "    cumulative_time_unbal_bfs.append(exec_time_bfs)\n",
    "    avg_time_unbal_dfs.append(exec_time_dfs/k)\n",
    "    avg_time_unbal_bfs.append(exec_time_bfs/k)"
   ]
  },
  {
   "cell_type": "code",
   "execution_count": 277,
   "metadata": {},
   "outputs": [
    {
     "data": {
      "text/plain": [
       "Text(0.5, 1.0, 'Average search time, unbalanced graph')"
      ]
     },
     "execution_count": 277,
     "metadata": {},
     "output_type": "execute_result"
    },
    {
     "data": {
      "image/png": "[encoded data removed]",
      "text/plain": [
       "<Figure size 1200x400 with 1 Axes>"
      ]
     },
     "metadata": {},
     "output_type": "display_data"
    }
   ],
   "source": [
    "x = np.array([i for i in range(1, len(nodes_to_find) + 1)])\n",
    "width = 0.40\n",
    "\n",
    "plt.figure(figsize=(12,4))\n",
    "\n",
    "plt.bar(x-0.2, avg_time_unbal_dfs, width)\n",
    "plt.bar(x+0.2, avg_time_unbal_bfs, width)\n",
    "\n",
    "plt.xlabel(\"Nr. vertices\")\n",
    "plt.ylabel(\"Time, s\")\n",
    "plt.legend([\"DFS\", \"BFS\"])\n",
    "plt.title(\"Average search time, unbalanced graph\")"
   ]
  },
  {
   "cell_type": "code",
   "execution_count": 278,
   "metadata": {},
   "outputs": [
    {
     "data": {
      "text/plain": [
       "Text(0.5, 1.0, 'Cumulative search time, unbalanced graph')"
      ]
     },
     "execution_count": 278,
     "metadata": {},
     "output_type": "execute_result"
    },
    {
     "data": {
      "image/png": "[encoded data removed]",
      "text/plain": [
       "<Figure size 1200x400 with 1 Axes>"
      ]
     },
     "metadata": {},
     "output_type": "display_data"
    }
   ],
   "source": [
    "x = np.array([i for i in range(1, len(nodes_to_find) + 1)])\n",
    "width = 0.40\n",
    "\n",
    "plt.figure(figsize=(12,4))\n",
    "\n",
    "plt.bar(x-0.2, cumulative_time_unbal_dfs, width)\n",
    "plt.bar(x+0.2, cumulative_time_unbal_bfs, width)\n",
    "\n",
    "plt.xlabel(\"Nr. vertices\")\n",
    "plt.ylabel(\"Time, s\")\n",
    "plt.legend([\"DFS\", \"BFS\"])\n",
    "plt.title(\"Cumulative search time, unbalanced graph\")"
   ]
  },
  {
   "cell_type": "code",
   "execution_count": 279,
   "metadata": {},
   "outputs": [
    {
     "data": {
      "text/html": [
       "<table>\n",
       "    <thead>\n",
       "        <tr>\n",
       "            <th>Nr.vertices</th>\n",
       "            <th>1</th>\n",
       "            <th>3</th>\n",
       "            <th>5</th>\n",
       "            <th>7</th>\n",
       "            <th>9</th>\n",
       "            <th>11</th>\n",
       "            <th>13</th>\n",
       "            <th>15</th>\n",
       "            <th>17</th>\n",
       "            <th>19</th>\n",
       "            <th>21</th>\n",
       "            <th>23</th>\n",
       "            <th>25</th>\n",
       "        </tr>\n",
       "    </thead>\n",
       "    <tbody>\n",
       "        <tr>\n",
       "            <td>Avg.time, s (1e-5)</td>\n",
       "            <td>0.93</td>\n",
       "            <td>0.857</td>\n",
       "            <td>0.616</td>\n",
       "            <td>0.606</td>\n",
       "            <td>0.627</td>\n",
       "            <td>0.651</td>\n",
       "            <td>0.668</td>\n",
       "            <td>0.722</td>\n",
       "            <td>0.648</td>\n",
       "            <td>0.656</td>\n",
       "            <td>0.659</td>\n",
       "            <td>0.651</td>\n",
       "            <td>0.681</td>\n",
       "        </tr>\n",
       "        <tr>\n",
       "            <td>Cum.time, s (1e-5)</td>\n",
       "            <td>0.93</td>\n",
       "            <td>2.57</td>\n",
       "            <td>3.08</td>\n",
       "            <td>4.24</td>\n",
       "            <td>5.64</td>\n",
       "            <td>7.16</td>\n",
       "            <td>8.69</td>\n",
       "            <td>10.83</td>\n",
       "            <td>11.02</td>\n",
       "            <td>12.46</td>\n",
       "            <td>13.83</td>\n",
       "            <td>14.98</td>\n",
       "            <td>17.02</td>\n",
       "        </tr>\n",
       "    </tbody>\n",
       "</table>"
      ],
      "text/plain": [
       "+--------------------+------+-------+-------+-------+-------+-------+-------+-------+-------+-------+-------+-------+-------+\n",
       "|    Nr.vertices     |  1   |   3   |   5   |   7   |   9   |   11  |   13  |   15  |   17  |   19  |   21  |   23  |   25  |\n",
       "+--------------------+------+-------+-------+-------+-------+-------+-------+-------+-------+-------+-------+-------+-------+\n",
       "| Avg.time, s (1e-5) | 0.93 | 0.857 | 0.616 | 0.606 | 0.627 | 0.651 | 0.668 | 0.722 | 0.648 | 0.656 | 0.659 | 0.651 | 0.681 |\n",
       "| Cum.time, s (1e-5) | 0.93 |  2.57 |  3.08 |  4.24 |  5.64 |  7.16 |  8.69 | 10.83 | 11.02 | 12.46 | 13.83 | 14.98 | 17.02 |\n",
       "+--------------------+------+-------+-------+-------+-------+-------+-------+-------+-------+-------+-------+-------+-------+"
      ]
     },
     "execution_count": 279,
     "metadata": {},
     "output_type": "execute_result"
    }
   ],
   "source": [
    "table = PrettyTable()\n",
    "\n",
    "nr_vertices = [i for i in range(1, len(nodes_to_find) + 1)]\n",
    "table.field_names = [\"Nr.vertices\"] + nr_vertices[::2]\n",
    "table.add_row([\"Avg.time, s (1e-5)\"] + [round(x * 10**5, 3) for x in avg_time_unbal_dfs[::2]])\n",
    "table.add_row([\"Cum.time, s (1e-5)\"] + [round(x * 10**5, 3) for x in cumulative_time_unbal_dfs[::2]])\n",
    "table"
   ]
  },
  {
   "cell_type": "code",
   "execution_count": 280,
   "metadata": {},
   "outputs": [
    {
     "data": {
      "text/html": [
       "<table>\n",
       "    <thead>\n",
       "        <tr>\n",
       "            <th>Nr.vertices</th>\n",
       "            <th>1</th>\n",
       "            <th>3</th>\n",
       "            <th>5</th>\n",
       "            <th>7</th>\n",
       "            <th>9</th>\n",
       "            <th>11</th>\n",
       "            <th>13</th>\n",
       "            <th>15</th>\n",
       "            <th>17</th>\n",
       "            <th>19</th>\n",
       "            <th>21</th>\n",
       "            <th>23</th>\n",
       "            <th>25</th>\n",
       "        </tr>\n",
       "    </thead>\n",
       "    <tbody>\n",
       "        <tr>\n",
       "            <td>Avg.time, s (1e-5)</td>\n",
       "            <td>0.77</td>\n",
       "            <td>0.867</td>\n",
       "            <td>0.738</td>\n",
       "            <td>0.799</td>\n",
       "            <td>0.689</td>\n",
       "            <td>0.706</td>\n",
       "            <td>0.672</td>\n",
       "            <td>0.899</td>\n",
       "            <td>0.678</td>\n",
       "            <td>0.705</td>\n",
       "            <td>0.681</td>\n",
       "            <td>0.704</td>\n",
       "            <td>0.722</td>\n",
       "        </tr>\n",
       "        <tr>\n",
       "            <td>Cum.time, s (1e-5)</td>\n",
       "            <td>0.77</td>\n",
       "            <td>2.6</td>\n",
       "            <td>3.69</td>\n",
       "            <td>5.59</td>\n",
       "            <td>6.2</td>\n",
       "            <td>7.77</td>\n",
       "            <td>8.74</td>\n",
       "            <td>13.49</td>\n",
       "            <td>11.53</td>\n",
       "            <td>13.39</td>\n",
       "            <td>14.3</td>\n",
       "            <td>16.19</td>\n",
       "            <td>18.04</td>\n",
       "        </tr>\n",
       "    </tbody>\n",
       "</table>"
      ],
      "text/plain": [
       "+--------------------+------+-------+-------+-------+-------+-------+-------+-------+-------+-------+-------+-------+-------+\n",
       "|    Nr.vertices     |  1   |   3   |   5   |   7   |   9   |   11  |   13  |   15  |   17  |   19  |   21  |   23  |   25  |\n",
       "+--------------------+------+-------+-------+-------+-------+-------+-------+-------+-------+-------+-------+-------+-------+\n",
       "| Avg.time, s (1e-5) | 0.77 | 0.867 | 0.738 | 0.799 | 0.689 | 0.706 | 0.672 | 0.899 | 0.678 | 0.705 | 0.681 | 0.704 | 0.722 |\n",
       "| Cum.time, s (1e-5) | 0.77 |  2.6  |  3.69 |  5.59 |  6.2  |  7.77 |  8.74 | 13.49 | 11.53 | 13.39 |  14.3 | 16.19 | 18.04 |\n",
       "+--------------------+------+-------+-------+-------+-------+-------+-------+-------+-------+-------+-------+-------+-------+"
      ]
     },
     "execution_count": 280,
     "metadata": {},
     "output_type": "execute_result"
    }
   ],
   "source": [
    "table = PrettyTable()\n",
    "\n",
    "nr_vertices = [i for i in range(1, len(nodes_to_find) + 1)]\n",
    "table.field_names = [\"Nr.vertices\"] + nr_vertices[::2]\n",
    "table.add_row([\"Avg.time, s (1e-5)\"] + [round(x * 10**5, 3) for x in avg_time_unbal_bfs[::2]])\n",
    "table.add_row([\"Cum.time, s (1e-5)\"] + [round(x * 10**5, 3) for x in cumulative_time_unbal_bfs[::2]])\n",
    "table"
   ]
  },
  {
   "cell_type": "code",
   "execution_count": null,
   "metadata": {},
   "outputs": [],
   "source": []
  }
 ],
 "metadata": {
  "kernelspec": {
   "display_name": "Python 3",
   "language": "python",
   "name": "python3"
  },
  "language_info": {
   "codemirror_mode": {
    "name": "ipython",
    "version": 3
   },
   "file_extension": ".py",
   "mimetype": "text/x-python",
   "name": "python",
   "nbconvert_exporter": "python",
   "pygments_lexer": "ipython3",
   "version": "3.7.9"
  },
  "orig_nbformat": 4
 },
 "nbformat": 4,
 "nbformat_minor": 2
}
